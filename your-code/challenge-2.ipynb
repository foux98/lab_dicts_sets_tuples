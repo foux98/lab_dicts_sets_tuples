{
 "cells": [
  {
   "cell_type": "markdown",
   "metadata": {},
   "source": [
    "## Challenge 2: Sets\n",
    "\n",
    "There are a lot to learn about Python Sets and the information presented in the lesson is limited due to its length. To learn Python Sets in depth you are strongly encouraged to review the W3Schools tutorial on [Python Sets Examples and Methods](https://www.w3schools.com/python/python_sets.asp) before you work on this lab. Some difficult questions in this lab have their solutions in the W3Schools tutorial.\n",
    "\n",
    "#### First, import the Python `random` library."
   ]
  },
  {
   "cell_type": "code",
   "execution_count": 1,
   "metadata": {},
   "outputs": [],
   "source": [
    "import random"
   ]
  },
  {
   "cell_type": "markdown",
   "metadata": {},
   "source": [
    "#### In the cell below, create a list named `sample_list_1` with 80 random values. \n",
    "\n",
    "Requirements:\n",
    "\n",
    "* Each value is an integer falling between 0 and 100.\n",
    "* Each value in the list is unique.\n",
    "\n",
    "Print `sample_list_1` to review its values\n",
    "\n",
    "*Hint: use `random.sample` ([reference](https://docs.python.org/3/library/random.html#random.sample)).*"
   ]
  },
  {
   "cell_type": "code",
   "execution_count": 5,
   "metadata": {},
   "outputs": [
    {
     "name": "stdout",
     "output_type": "stream",
     "text": [
      "[46, 72, 85, 82, 23, 41, 70, 89, 5, 48, 79, 42, 50, 49, 9, 97, 14, 54, 39, 25, 43, 53, 63, 100, 0, 40, 77, 32, 27, 91, 74, 31, 56, 11, 47, 64, 99, 81, 95, 96, 62, 38, 10, 86, 75, 61, 3, 6, 60, 98, 94, 20, 17, 44, 8, 29, 30, 83, 34, 37, 92, 51, 16, 19, 15, 52, 66, 21, 65, 4, 87, 76, 24, 58, 68, 69, 88, 13, 71, 84]\n"
     ]
    }
   ],
   "source": [
    "sample_list_1 = random.sample(range(101), 80)\n",
    "print(sample_list_1)"
   ]
  },
  {
   "cell_type": "markdown",
   "metadata": {},
   "source": [
    "#### Convert `sample_list_1` to a set called `set1`. Print the length of the set. Is its length still 80?"
   ]
  },
  {
   "cell_type": "code",
   "execution_count": 8,
   "metadata": {},
   "outputs": [
    {
     "name": "stdout",
     "output_type": "stream",
     "text": [
      "80\n"
     ]
    }
   ],
   "source": [
    "set1 = set(sample_list_1)\n",
    "print(len(set1))"
   ]
  },
  {
   "cell_type": "markdown",
   "metadata": {},
   "source": [
    "#### Create another list named `sample_list_2` with 80 random values.\n",
    "\n",
    "Requirements:\n",
    "\n",
    "* Each value is an integer falling between 0 and 100.\n",
    "* The values in the list don't have to be unique.\n",
    "\n",
    "*Hint: Use a FOR loop.*"
   ]
  },
  {
   "cell_type": "code",
   "execution_count": 11,
   "metadata": {},
   "outputs": [
    {
     "name": "stdout",
     "output_type": "stream",
     "text": [
      "[24, 40, 28, 93, 85, 39, 65, 45, 54, 16, 90, 85, 28, 85, 38, 76, 83, 100, 2, 97, 88, 42, 54, 77, 71, 29, 17, 72, 55, 18, 90, 51, 66, 32, 32, 28, 97, 39, 76, 3, 12, 37, 31, 82, 44, 62, 69, 49, 96, 62, 6, 39, 76, 26, 17, 51, 68, 36, 98, 27, 85, 91, 0, 86, 97, 78, 59, 47, 20, 15, 34, 53, 50, 20, 63, 73, 94, 100, 1, 6]\n"
     ]
    }
   ],
   "source": [
    "import random\n",
    "\n",
    "sample_list_2 = []\n",
    "\n",
    "for x in range(80):\n",
    "    sample_list_2.append(random.randint(0, 100))\n",
    "    \n",
    "print (sample_list_2)"
   ]
  },
  {
   "cell_type": "markdown",
   "metadata": {},
   "source": [
    "#### Convert `sample_list_2` to a set called `set2`. Print the length of the set. Is its length still 80?"
   ]
  },
  {
   "cell_type": "code",
   "execution_count": 12,
   "metadata": {},
   "outputs": [
    {
     "name": "stdout",
     "output_type": "stream",
     "text": [
      "60\n"
     ]
    }
   ],
   "source": [
    "set2 = set(sample_list_2)\n",
    "print(len(set2))"
   ]
  },
  {
   "cell_type": "code",
   "execution_count": 28,
   "metadata": {},
   "outputs": [
    {
     "name": "stdout",
     "output_type": "stream",
     "text": [
      "{0, 1, 2, 3, 6, 12, 15, 16, 17, 18, 20, 24, 26, 27, 28, 29, 31, 32, 34, 36, 37, 38, 39, 40, 42, 44, 45, 47, 49, 50, 51, 53, 54, 55, 59, 62, 63, 65, 66, 68, 69, 71, 72, 73, 76, 77, 78, 82, 83, 85, 86, 88, 90, 91, 93, 94, 96, 97, 98, 100}\n"
     ]
    }
   ],
   "source": [
    "print(set2)"
   ]
  },
  {
   "cell_type": "code",
   "execution_count": 29,
   "metadata": {},
   "outputs": [
    {
     "name": "stdout",
     "output_type": "stream",
     "text": [
      "{4, 5, 6, 8, 10, 13, 14, 15, 16, 17, 20, 23, 24, 25, 27, 30, 32, 34, 37, 38, 40, 42, 43, 44, 46, 47, 48, 50, 52, 53, 54, 56, 58, 60, 62, 63, 64, 65, 66, 68, 70, 72, 74, 75, 76, 77, 82, 83, 84, 85, 86, 87, 88, 92, 94, 95, 96, 97, 98, 100}\n"
     ]
    }
   ],
   "source": [
    "print(set1)"
   ]
  },
  {
   "cell_type": "markdown",
   "metadata": {},
   "source": [
    "#### Identify the elements present in `set1` but not in `set2`. Assign the elements to a new set named `set3`."
   ]
  },
  {
   "cell_type": "code",
   "execution_count": 15,
   "metadata": {},
   "outputs": [
    {
     "name": "stdout",
     "output_type": "stream",
     "text": [
      "{4, 5, 8, 9, 10, 11, 13, 14, 19, 21, 23, 25, 30, 41, 43, 46, 48, 52, 56, 58, 60, 61, 64, 70, 74, 75, 79, 81, 84, 87, 89, 92, 95, 99}\n"
     ]
    }
   ],
   "source": [
    "set3 = set1 - set2\n",
    "print(set3)"
   ]
  },
  {
   "cell_type": "markdown",
   "metadata": {},
   "source": [
    "#### Identify the elements present in `set2` but not in `set1`. Assign the elements to a new set named `set4`."
   ]
  },
  {
   "cell_type": "code",
   "execution_count": 16,
   "metadata": {},
   "outputs": [
    {
     "name": "stdout",
     "output_type": "stream",
     "text": [
      "{1, 2, 36, 90, 73, 12, 45, 78, 18, 55, 26, 59, 28, 93}\n"
     ]
    }
   ],
   "source": [
    "set4 = set2 - set1\n",
    "print(set4)"
   ]
  },
  {
   "cell_type": "markdown",
   "metadata": {},
   "source": [
    "#### Now Identify the elements shared between `set1` and `set2`. Assign the elements to a new set named `set5`."
   ]
  },
  {
   "cell_type": "code",
   "execution_count": 17,
   "metadata": {},
   "outputs": [
    {
     "name": "stdout",
     "output_type": "stream",
     "text": [
      "{0, 3, 6, 15, 16, 17, 20, 24, 27, 29, 31, 32, 34, 37, 38, 39, 40, 42, 44, 47, 49, 50, 51, 53, 54, 62, 63, 65, 66, 68, 69, 71, 72, 76, 77, 82, 83, 85, 86, 88, 91, 94, 96, 97, 98, 100}\n"
     ]
    }
   ],
   "source": [
    "set5 = set1 & set2\n",
    "print(set5)"
   ]
  },
  {
   "cell_type": "markdown",
   "metadata": {},
   "source": [
    "#### What is the relationship among the following values:\n",
    "\n",
    "* len(set1)\n",
    "* len(set2)\n",
    "* len(set3)\n",
    "* len(set4)\n",
    "* len(set5)\n",
    "\n",
    "Use a math formular to represent that relationship. Test your formular with Python code."
   ]
  },
  {
   "cell_type": "code",
   "execution_count": 30,
   "metadata": {},
   "outputs": [
    {
     "name": "stdout",
     "output_type": "stream",
     "text": [
      "{0, 1, 2, 3, 4, 5, 6, 8, 9, 10, 11, 12, 13, 14, 15, 16, 17, 18, 19, 20, 21, 23, 24, 25, 26, 27, 28, 29, 30, 31, 32, 34, 36, 37, 38, 39, 40, 41, 42, 43, 44, 45, 46, 47, 48, 49, 50, 51, 52, 53, 54, 55, 56, 58, 59, 60, 61, 62, 63, 64, 65, 66, 68, 69, 70, 71, 72, 73, 74, 75, 76, 77, 78, 79, 81, 82, 83, 84, 85, 86, 87, 88, 89, 90, 91, 92, 93, 94, 95, 96, 97, 98, 99, 100}\n"
     ]
    }
   ],
   "source": [
    "set1 = {4, 5, 6, 8, 10, 13, 14, 15, 16, 17, 20, 23, 24, 25, 27, 30, 32, 34, 37, 38, 40, 42, 43, 44, 46 , 47, 48, 50, 52, 53, 54, 56, 58, 60, 62, 63, 64, 65, 66, 68, 70, 72, 74, 75, 76, 77, 82, 83, 84, 85 , 86, 87, 88, 92, 94, 95, 96, 97, 98, 100}  # Inserta los elementos de set1\n",
    "set2 = {0, 1, 2, 3, 6, 12, 15, 16, 17, 18, 20, 24, 26, 27, 28, 29, 31, 32, 34, 36, 37, 38, 39, 40, 42 , 44, 45, 47, 49, 50, 51, 53, 54, 55, 59, 62, 63, 65, 66, 68, 69, 71, 72, 73, 76, 77, 78, 82, 83, 85 , 86, 88, 90, 91, 93, 94, 96, 97, 98, 100}  \n",
    "set3 = {4, 5, 8, 9, 10, 11, 13, 14, 19, 21, 23, 25, 30, 41, 43, 46, 48, 52, 56, 58, 60, 61, 64, 70, 74, 75, 79, 81, 84, 87, 89, 92, 95, 99} \n",
    "set4 = {1, 2, 36, 90, 73, 12, 45, 78, 18, 55, 26, 59, 28, 93} \n",
    "set5 = {0, 3, 6, 15, 16, 17, 20, 24, 27, 29, 31, 32, 34, 37, 38, 39, 40, 42, 44, 47, 49, 50, 51, 53, 54, 62, 63, 65, 66, 68, 69, 71, 72, 76, 77, 82, 83, 85, 86, 88, 91, 94, 96, 97, 98, 100}\n",
    "\n",
    "\n",
    "relationship = set1.union(set2).union(set3).union(set4).union(set5)\n",
    "\n",
    "print(relationship)"
   ]
  },
  {
   "cell_type": "markdown",
   "metadata": {},
   "source": [
    "#### Create an empty set called `set6`."
   ]
  },
  {
   "cell_type": "code",
   "execution_count": 18,
   "metadata": {},
   "outputs": [],
   "source": [
    "set6 = set()"
   ]
  },
  {
   "cell_type": "markdown",
   "metadata": {},
   "source": [
    "#### Add `set3` and `set5` to `set6` using the Python Set `update` method."
   ]
  },
  {
   "cell_type": "code",
   "execution_count": 19,
   "metadata": {},
   "outputs": [],
   "source": [
    "set6.update(set3)\n",
    "set6.update(set5)\n"
   ]
  },
  {
   "cell_type": "markdown",
   "metadata": {},
   "source": [
    "#### Check if `set1` and `set6` are equal."
   ]
  },
  {
   "cell_type": "code",
   "execution_count": 20,
   "metadata": {},
   "outputs": [
    {
     "name": "stdout",
     "output_type": "stream",
     "text": [
      "True\n"
     ]
    }
   ],
   "source": [
    "iguales = set1 == set6\n",
    "print(iguales)"
   ]
  },
  {
   "cell_type": "markdown",
   "metadata": {},
   "source": [
    "#### Check if `set1` contains `set2` using the Python Set `issubset` method. Then check if `set1` contains `set3`.*"
   ]
  },
  {
   "cell_type": "code",
   "execution_count": 21,
   "metadata": {},
   "outputs": [
    {
     "name": "stdout",
     "output_type": "stream",
     "text": [
      "¿set2 está contenido en set1? False\n",
      "¿set3 está contenido en set1? True\n"
     ]
    }
   ],
   "source": [
    "contiene_set2 = set2.issubset(set1)\n",
    "print(\"¿set2 está contenido en set1?\", contiene_set2)\n",
    "\n",
    "contiene_set3 = set3.issubset(set1)\n",
    "print(\"¿set3 está contenido en set1?\", contiene_set3)"
   ]
  },
  {
   "cell_type": "markdown",
   "metadata": {},
   "source": [
    "#### Using the Python Set `union` method, aggregate `set3`, `set4`, and `set5`. Then aggregate `set1` and `set2`. \n",
    "\n",
    "#### Check if the aggregated values are equal."
   ]
  },
  {
   "cell_type": "code",
   "execution_count": 23,
   "metadata": {},
   "outputs": [
    {
     "name": "stdout",
     "output_type": "stream",
     "text": [
      "{0, 3, 4, 5, 6, 8, 9, 10, 11, 13, 14, 15, 16, 17, 19, 20, 21, 23, 24, 25, 27, 29, 30, 31, 32, 34, 37, 38, 39, 40, 41, 42, 43, 44, 46, 47, 48, 49, 50, 51, 52, 53, 54, 56, 58, 60, 61, 62, 63, 64, 65, 66, 68, 69, 70, 71, 72, 74, 75, 76, 77, 79, 81, 82, 83, 84, 85, 86, 87, 88, 89, 91, 92, 94, 95, 96, 97, 98, 99, 100}\n"
     ]
    }
   ],
   "source": [
    "set6.union(set3, set4, set5)\n",
    "set6.union(set1, set2)\n",
    "\n",
    "print(set6)"
   ]
  },
  {
   "cell_type": "markdown",
   "metadata": {},
   "source": [
    "#### Using the `pop` method, remove the first element from `set1`."
   ]
  },
  {
   "cell_type": "code",
   "execution_count": 25,
   "metadata": {},
   "outputs": [
    {
     "data": {
      "text/plain": [
       "3"
      ]
     },
     "execution_count": 25,
     "metadata": {},
     "output_type": "execute_result"
    }
   ],
   "source": [
    "primer_elemento = set1.pop()\n",
    "primer_elemento"
   ]
  },
  {
   "cell_type": "markdown",
   "metadata": {},
   "source": [
    "#### Remove every element in the following list from `set1` if they are present in the set. Print the remaining elements.\n",
    "\n",
    "```\n",
    "list_to_remove = [1, 9, 11, 19, 21, 29, 31, 39, 41, 49, 51, 59, 61, 69, 71, 79, 81, 89, 91, 99]\n",
    "```"
   ]
  },
  {
   "cell_type": "code",
   "execution_count": 26,
   "metadata": {},
   "outputs": [
    {
     "name": "stdout",
     "output_type": "stream",
     "text": [
      "{4, 5, 6, 8, 10, 13, 14, 15, 16, 17, 20, 23, 24, 25, 27, 30, 32, 34, 37, 38, 40, 42, 43, 44, 46, 47, 48, 50, 52, 53, 54, 56, 58, 60, 62, 63, 64, 65, 66, 68, 70, 72, 74, 75, 76, 77, 82, 83, 84, 85, 86, 87, 88, 92, 94, 95, 96, 97, 98, 100}\n"
     ]
    }
   ],
   "source": [
    "list_to_remove = [1, 9, 11, 19, 21, 29, 31, 39, 41, 49, 51, 59, 61, 69, 71, 79, 81, 89, 91, 99]\n",
    "set1 -= set(list_to_remove)\n",
    "print(set1)\n"
   ]
  }
 ],
 "metadata": {
  "kernelspec": {
   "display_name": "Python 3 (ipykernel)",
   "language": "python",
   "name": "python3"
  },
  "language_info": {
   "codemirror_mode": {
    "name": "ipython",
    "version": 3
   },
   "file_extension": ".py",
   "mimetype": "text/x-python",
   "name": "python",
   "nbconvert_exporter": "python",
   "pygments_lexer": "ipython3",
   "version": "3.11.5"
  }
 },
 "nbformat": 4,
 "nbformat_minor": 2
}
